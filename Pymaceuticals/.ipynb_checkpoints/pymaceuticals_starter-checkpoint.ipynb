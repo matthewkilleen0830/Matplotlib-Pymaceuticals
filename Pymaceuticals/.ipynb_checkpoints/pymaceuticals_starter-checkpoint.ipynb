{
 "cells": [
  {
   "cell_type": "markdown",
   "metadata": {},
   "source": [
    "## Observations and Insights "
   ]
  },
  {
   "cell_type": "markdown",
   "metadata": {},
   "source": []
  },
  {
   "cell_type": "code",
   "execution_count": null,
   "metadata": {},
   "outputs": [],
   "source": [
    "# Dependencies and Setup\n",
    "import matplotlib.pyplot as plt\n",
    "import pandas as pd\n",
    "import scipy.stats as st\n",
    "import numpy as np\n",
    "\n",
    "# Study data files\n",
    "mouse_metadata_path = \"data/Mouse_metadata.csv\"\n",
    "study_results_path = \"data/Study_results.csv\"\n",
    "\n",
    "# Read the mouse data and the study results\n",
    "mouse_metadata = pd.read_csv(mouse_metadata_path)\n",
    "study_results = pd.read_csv(study_results_path)\n",
    "\n",
    "# Combine the data into a single dataset\n",
    "complete_df = pd.merge(mouse_metadata, study_results, how = \"outer\", on = \"Mouse ID\")\n",
    "\n",
    "# Display the data table for preview\n",
    "complete_df"
   ]
  },
  {
   "cell_type": "code",
   "execution_count": null,
   "metadata": {},
   "outputs": [],
   "source": [
    "# Checking the number of mice.\n",
    "number_of_mice = len(complete_df[\"Mouse ID\"].unique())\n",
    "print(number_of_mice)"
   ]
  },
  {
   "cell_type": "code",
   "execution_count": null,
   "metadata": {},
   "outputs": [],
   "source": [
    "# Getting the duplicate mouse by ID number that shows up for Mouse ID and Timepoint. \n",
    "duplicate_mouse = complete_df.loc[complete_df.duplicated(subset = [\"Mouse ID\", \"Timepoint\"]),\"Mouse ID\"].unique()\n",
    "duplicate_mouse"
   ]
  },
  {
   "cell_type": "code",
   "execution_count": null,
   "metadata": {},
   "outputs": [],
   "source": [
    "# Create a clean DataFrame by dropping the duplicate mouse by its ID.\n",
    "cleaned_df = complete_df[complete_df[\"Mouse ID\"] != \"g989\"]\n",
    "cleaned_df"
   ]
  },
  {
   "cell_type": "code",
   "execution_count": null,
   "metadata": {},
   "outputs": [],
   "source": [
    "# Checking the number of mice in the clean DataFrame.\n",
    "unique_mice = len(cleaned_df[\"Mouse ID\"].unique())\n",
    "unique_mice"
   ]
  },
  {
   "cell_type": "markdown",
   "metadata": {},
   "source": [
    "## Summary Statistics"
   ]
  },
  {
   "cell_type": "code",
   "execution_count": null,
   "metadata": {},
   "outputs": [],
   "source": [
    "# Generate a summary statistics table of mean, median, variance, standard deviation, and SEM of the tumor volume for each regimen\n",
    "\n",
    "# Use groupby and summary statistical methods to calculate the following properties of each drug regimen:\n",
    "regimen_group_df = cleaned_df.groupby([\"Drug Regimen\"])\n",
    "\n",
    "# mean, median, variance, standard deviation, and SEM of the tumor volume.\n",
    "tumor_mean = regimen_group_df[\"Tumor Volume (mm3)\"].mean()\n",
    "tumor_median = regimen_group_df[\"Tumor Volume (mm3)\"].median()\n",
    "tumor_variance = regimen_group_df[\"Tumor Volume (mm3)\"].var()\n",
    "tumor_std_dev = regimen_group_df[\"Tumor Volume (mm3)\"].std()\n",
    "tumor_std_err = regimen_group_df[\"Tumor Volume (mm3)\"].sem()\n",
    "\n",
    "# Assemble the resulting series into a single summary dataframe.\n",
    "regimen_summary_1_df = pd.DataFrame({\"Tumor Volume (mm3) Mean\":(tumor_mean),\n",
    "                                   \"Tumor Volume (mm3) Median\":(tumor_median),\n",
    "                                   \"Tumor Volume (mm3) Variance\":(tumor_variance),\n",
    "                                   \"Tumor Volume (mm3) Standard Deviation\":(tumor_std_dev),\n",
    "                                   \"Tumor Volume (mm3) Standard Error of Mean\":(tumor_std_err)})\n",
    "regimen_summary_1_df"
   ]
  },
  {
   "cell_type": "code",
   "execution_count": null,
   "metadata": {},
   "outputs": [],
   "source": [
    "# Generate a summary statistics table of mean, median, variance, standard deviation, and SEM of the tumor volume for each regimen\n",
    "\n",
    "# Using the aggregation method, produce the same summary statistics in a single line [of code]\n",
    "regimen_summary_2_df = pd.DataFrame(cleaned_df.groupby([\"Drug Regimen\"])[[\"Tumor Volume (mm3)\"]].agg([\"mean\", \"median\", \"var\", \"std\", \"sem\"]))\n",
    "regimen_summary_2_df"
   ]
  },
  {
   "cell_type": "markdown",
   "metadata": {},
   "source": [
    "## Bar and Pie Charts"
   ]
  },
  {
   "cell_type": "code",
   "execution_count": null,
   "metadata": {},
   "outputs": [],
   "source": [
    "# Generate a bar plot showing the total number of measurements taken on each drug regimen using pandas.\n",
    "\n",
    "# Create groupby objects by drug regimen and mouse ID\n",
    "group_drug_regimen = cleaned_df.groupby([\"Drug Regimen\"])\n",
    "group_total_treatments = cleaned_df.groupby([\"Drug Regimen\"]).count()[\"Mouse ID\"]\n",
    "\n",
    "# Create DataFrame to hold groupby objects\n",
    "pandas_bar_df = pd.DataFrame({\"Drug Regimen\":(group_drug_regimen),\n",
    "                              \"Total Treatments\":(group_total_treatments)})\n",
    "\n",
    "# Define bar plot size, color and transparency, legend, and x tickmark orientation\n",
    "pandas_bar_chart = pandas_bar_df.plot(kind = \"bar\", figsize = (16,10), color = \"b\", alpha = 0.75, legend = False, rot = 45)\n",
    "\n",
    "# Define bar plot title, x label, and y label (and their font sizes)\n",
    "pandas_bar_chart.set_title(\"Number of Treatments by Regimen\", fontsize = 18)\n",
    "pandas_bar_chart.set_xlabel(\"Drug Regimen\", fontsize = 14)\n",
    "pandas_bar_chart.set_ylabel(\"Number of Treatments\", fontsize = 14)\n",
    "\n",
    "# Print pandas bar plot to image file\n",
    "plt.savefig(\"../Images/PandasBarPlot.jpg\")\n",
    "\n",
    "plt.show()"
   ]
  },
  {
   "cell_type": "code",
   "execution_count": null,
   "metadata": {},
   "outputs": [],
   "source": [
    "# Generate a bar plot showing the total number of measurements taken on each drug regimen using pyplot.\n",
    "\n",
    "# Create an array that contains the number of unique drug regimens\n",
    "drug_regimens = cleaned_df[\"Drug Regimen\"].unique()\n",
    "x_axis = np.arange(len(drug_regimens))\n",
    "\n",
    "# Define bar plot size\n",
    "plt.figure(figsize = (16,10))\n",
    "\n",
    "# Tell MatPlotLib where we would like to place each of our x tickmarks and their orientation\n",
    "tick_locations = [value for value in x_axis]\n",
    "plt.xticks(tick_locations, drug_regimens, rotation = 45)\n",
    "\n",
    "# Pass values into bar plot, and define color and transparency\n",
    "plt.bar(x_axis, group_total_treatments, color = \"b\", alpha = 0.75)\n",
    "\n",
    "# Define bar plot title, x label, and y label (and their font sizes)\n",
    "plt.title(\"Number of Treatments per Regimen\", fontsize = 18)\n",
    "plt.xlabel(\"Drug Regimen\", fontsize = 14)\n",
    "plt.ylabel(\"Number of Treatments\", fontsize = 14)\n",
    "\n",
    "# Print pyplot bar plot to image file\n",
    "plt.savefig(\"../Images/PyPlotBarPlot.jpg\")\n",
    "\n",
    "plt.show()"
   ]
  },
  {
   "cell_type": "code",
   "execution_count": null,
   "metadata": {},
   "outputs": [],
   "source": [
    "# Generate a pie plot showing the distribution of female versus male mice using pandas\n",
    "\n",
    "# Create groupby object by mouse ID and gender\n",
    "group_mouse_gender = cleaned_df.groupby([\"Mouse ID\", \"Sex\"])\n",
    "\n",
    "# Create DataFrame to hold groupby object (by number of rows)\n",
    "group_gender_df = pd.DataFrame(group_mouse_gender.size())\n",
    "\n",
    "# Create DataFrame, groupby gender, and count and store the number of each\n",
    "mouse_gender_df = pd.DataFrame(group_gender_df.groupby([\"Sex\"]).count())\n",
    "\n",
    "# Rename DataFrame column\n",
    "mouse_gender_df.columns = [\"Number of Mice\"]\n",
    "\n",
    "# Define pie plot, y value by number of mice, percentages, plot size, start angle, legend, colors, explode amount, and shadow \n",
    "pandas_pie_chart = mouse_gender_df.plot(kind = \"pie\", y = \"Number of Mice\",\n",
    "                                        autopct = \"%1.1f%%\", figsize = (16,16), startangle = 135, legend = False,\n",
    "                                        colors = (\"pink\", \"blue\"), explode = (0.07, 0), shadow = True)\n",
    "\n",
    "# Define pie plot title and y label (and their font sizes)\n",
    "pandas_pie_chart.set_title(\"Distribution of Mice by Gender\", fontsize = 18)\n",
    "pandas_pie_chart.set_ylabel(\"Gender\", fontsize = 14)\n",
    "\n",
    "# Print pandas pie plot to image file\n",
    "plt.savefig(\"../Images/PandasPiePlot.jpg\")\n",
    "\n",
    "plt.show()"
   ]
  },
  {
   "cell_type": "code",
   "execution_count": null,
   "metadata": {},
   "outputs": [],
   "source": [
    "# Generate a pie plot showing the distribution of female versus male mice using pyplot\n",
    "\n",
    "# Define pie plot labels, values, and colors\n",
    "labels = [\"Female\", \"Male\"]\n",
    "sizes = mouse_gender_df[\"Number of Mice\"]\n",
    "colors = [\"pink\", \"blue\"]\n",
    "explode = (0.07, 0)\n",
    "\n",
    "# Define pie plot size\n",
    "plt.figure(figsize = (16,16))\n",
    "\n",
    "# Pass values, labels, colors, and explode into pie plot; define percentage, start angle, and shadow\n",
    "plt.pie(sizes, labels = labels, colors = colors, explode = explode,\n",
    "        autopct=\"%1.1f%%\", startangle = 135, shadow = True)\n",
    "\n",
    "# Define pie plot title and y label (and their font sizes)\n",
    "plt.title(\"Distribution of Mice by Gender\", fontsize = 18)\n",
    "plt.ylabel(\"Gender\", fontsize = 14)\n",
    "\n",
    "# Print pyplot pie plot to image file\n",
    "plt.savefig(\"../Images/PyPlotPiePlot.jpg\")\n",
    "\n",
    "plt.show()"
   ]
  },
  {
   "cell_type": "markdown",
   "metadata": {},
   "source": [
    "## Quartiles, Outliers and Boxplots"
   ]
  },
  {
   "cell_type": "code",
   "execution_count": null,
   "metadata": {},
   "outputs": [],
   "source": [
    "# Calculate the final tumor volume of each mouse across four of the treatment regimens:  \n",
    "# Capomulin, Ramicane, Infubinol, and Ceftamin\n",
    "\n",
    "# Start by getting the last (greatest) timepoint for each mouse\n",
    "greatest_timepoint_df = pd.DataFrame(complete_df.groupby(\"Mouse ID\")[\"Timepoint\"].max().sort_values()).reset_index().rename(columns={\"Timepoint\":\"Last Timepoint\"})                                                                                                                                  \n",
    "                                                                                                                                    \n",
    "# Merge this group df with the original dataframe to get the tumor volume at the last timepoint\n",
    "tumor_volume_df = pd.merge(cleaned_df, greatest_timepoint_df, how = \"outer\", on = \"Mouse ID\")\n",
    "tumor_volume_df.dropna(axis = 0, how = \"any\", thresh = None, subset = None, inplace = True)\n",
    "\n",
    "tumor_volume_df\n"
   ]
  },
  {
   "cell_type": "code",
   "execution_count": null,
   "metadata": {},
   "outputs": [],
   "source": [
    "# Put treatments into a list for for loop (and later for plot labels)\n",
    "regimen_names = [\"Capomulin\", \"Ramicane\", \"Infubinol\", \"Ceftamin\"]\n",
    "\n",
    "# Create empty list to fill with tumor vol data (for plotting)\n",
    "tumor_vol_data = []\n",
    "\n",
    "# Locate the rows which contain mice on each drug and get the tumor volumes\n",
    "for x in regimen_names:\n",
    "    volumes_df = tumor_volume_df.loc[tumor_volume_df[\"Drug Regimen\"] == x]\n",
    "    \n",
    "    # add subset\n",
    "    greatest_volumes_df = volumes_df.loc[volumes_df[\"Timepoint\"] == volumes_df[\"Last Timepoint\"]]\n",
    "\n",
    "    # Append list with tumor volumes on last timepoints\n",
    "    tumors = greatest_volumes_df[\"Tumor Volume (mm3)\"]\n",
    "    tumor_vol_data.append(tumors)\n",
    "\n",
    "    # Calculate the IQR and quantitatively determine if there are any potential outliers. \n",
    "    quartiles = tumors.quantile([0.25, 0.50, 0.75])\n",
    "    lowerq = quartiles[0.25]\n",
    "    medianq = quartiles[0.50]\n",
    "    upperq = quartiles[0.75]\n",
    "    iqr = upperq - lowerq\n",
    "    \n",
    "    # Print results to the display\n",
    "    print(f\"The lower quartile of {x} is:  {lowerq}.\")\n",
    "    print(f\"The median of {x} is:  {medianq}.\")\n",
    "    print(f\"The upper quartile of {x} is:  {upperq}.\")\n",
    "    print(f\"The interquartile range of {x} is:  {iqr}.\")\n",
    "    \n",
    "    # Determine outliers using upper and lower bounds\n",
    "    lower_bound = lowerq - (1.5 * iqr)\n",
    "    upper_bound = upperq + (1.5 * iqr)\n",
    "    print(f\"Values below {lower_bound} could be outliers.\")\n",
    "    print(f\"Values above {upper_bound} could be outliers.\")\n",
    "    print(\"------------------------------------------------------------\")"
   ]
  },
  {
   "cell_type": "code",
   "execution_count": null,
   "metadata": {},
   "outputs": [],
   "source": [
    "# Generate a box plot of the final tumor volume of each mouse across four regimens of interest\n",
    "outlier = dict(marker = \"o\", markerfacecolor = \"red\", markersize = 10, markeredgecolor = \"black\")\n",
    "\n",
    "# Define box plot size\n",
    "plt.figure(figsize = (16,16))\n",
    "\n",
    "# Define box plot values and outlier\n",
    "plt.boxplot(tumor_vol_data, flierprops = outlier)\n",
    "\n",
    "# Define box plot title, y label, x label, and x tick labels\n",
    "plt.title(\"Range of Final Tumor Volumes by Drug Regimen\", fontsize = 18)\n",
    "plt.ylabel(\"Tumor Volumes (mm3)\", fontsize = 14)\n",
    "plt.xlabel(\"Drug Regimen\", fontsize = 14)\n",
    "plt.xticks([1, 2, 3, 4], [\"Capomulin\", \"Ramicane\", \"Infubinol\", \"Ceftamin\"], fontsize = 14)\n",
    "\n",
    "# Print box plot to image file\n",
    "plt.savefig(\"../Images/BoxPlot.jpg\")\n",
    "\n",
    "plt.show()"
   ]
  },
  {
   "cell_type": "markdown",
   "metadata": {},
   "source": [
    "## Line and Scatter Plots"
   ]
  },
  {
   "cell_type": "code",
   "execution_count": null,
   "metadata": {},
   "outputs": [],
   "source": [
    "# Generate a line plot of tumor volume vs. time point for a mouse treated with Capomulin\n"
   ]
  },
  {
   "cell_type": "code",
   "execution_count": null,
   "metadata": {},
   "outputs": [],
   "source": [
    "# Generate a scatter plot of average tumor volume vs. mouse weight for the Capomulin regimen\n"
   ]
  },
  {
   "cell_type": "markdown",
   "metadata": {},
   "source": [
    "## Correlation and Regression"
   ]
  },
  {
   "cell_type": "code",
   "execution_count": null,
   "metadata": {},
   "outputs": [],
   "source": [
    "# Calculate the correlation coefficient and linear regression model \n",
    "# for mouse weight and average tumor volume for the Capomulin regimen\n"
   ]
  },
  {
   "cell_type": "code",
   "execution_count": null,
   "metadata": {},
   "outputs": [],
   "source": []
  }
 ],
 "metadata": {
  "anaconda-cloud": {},
  "kernelspec": {
   "display_name": "Python 3",
   "language": "python",
   "name": "python3"
  },
  "language_info": {
   "codemirror_mode": {
    "name": "ipython",
    "version": 3
   },
   "file_extension": ".py",
   "mimetype": "text/x-python",
   "name": "python",
   "nbconvert_exporter": "python",
   "pygments_lexer": "ipython3",
   "version": "3.6.10"
  }
 },
 "nbformat": 4,
 "nbformat_minor": 4
}
