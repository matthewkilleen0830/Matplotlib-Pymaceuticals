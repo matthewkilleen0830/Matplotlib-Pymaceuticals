{
 "cells": [
  {
   "cell_type": "markdown",
   "metadata": {},
   "source": [
    "## Observations and Insights "
   ]
  },
  {
   "cell_type": "code",
   "execution_count": null,
   "metadata": {},
   "outputs": [],
   "source": [
    "# Import dependencies\n",
    "import matplotlib.pyplot as plt\n",
    "import pandas as pd\n",
    "import scipy.stats as st\n",
    "import numpy as np\n",
    "\n",
    "# Study data files\n",
    "mouse_metadata_path = \"data/Mouse_metadata.csv\"\n",
    "study_results_path = \"data/Study_results.csv\"\n",
    "\n",
    "# Read the mouse data and the study results\n",
    "mouse_metadata = pd.read_csv(mouse_metadata_path)\n",
    "study_results = pd.read_csv(study_results_path)\n",
    "\n",
    "# Combine the data into a single dataset\n",
    "complete_df = pd.merge(study_results, mouse_metadata, how = \"left\", on = \"Mouse ID\")\n",
    "\n",
    "# Display the data table for preview\n",
    "complete_df"
   ]
  },
  {
   "cell_type": "code",
   "execution_count": null,
   "metadata": {},
   "outputs": [],
   "source": [
    "# Checking the number of mice.\n",
    "number_of_mice = len(complete_df[\"Mouse ID\"].unique())\n",
    "print(number_of_mice)"
   ]
  },
  {
   "cell_type": "code",
   "execution_count": null,
   "metadata": {},
   "outputs": [],
   "source": [
    "# Getting the duplicate mouse by ID number that shows up for Mouse ID and Timepoint. \n",
    "duplicate_mouse = complete_df.loc[complete_df.duplicated(subset = [\"Mouse ID\", \"Timepoint\"]),\"Mouse ID\"].unique()\n",
    "duplicate_mouse"
   ]
  },
  {
   "cell_type": "code",
   "execution_count": null,
   "metadata": {},
   "outputs": [],
   "source": [
    "# Create a clean DataFrame by dropping the duplicate mouse by its ID.\n",
    "cleaned_df = complete_df[complete_df[\"Mouse ID\"] != \"g989\"]\n",
    "cleaned_df.head()"
   ]
  },
  {
   "cell_type": "code",
   "execution_count": null,
   "metadata": {},
   "outputs": [],
   "source": [
    "# Checking the number of mice in the clean DataFrame.\n",
    "unique_mice = len(cleaned_df[\"Mouse ID\"].unique())\n",
    "unique_mice"
   ]
  },
  {
   "cell_type": "markdown",
   "metadata": {},
   "source": [
    "## Summary Statistics"
   ]
  },
  {
   "cell_type": "code",
   "execution_count": null,
   "metadata": {},
   "outputs": [],
   "source": [
    "# Generate a summary statistics table of mean, median, variance, standard deviation, and SEM of the tumor volume for each regimen\n",
    "\n",
    "# Use groupby and summary statistical methods to calculate the following properties of each drug regimen:\n",
    "regimen_group_df = cleaned_df.groupby([\"Drug Regimen\"])\n",
    "\n",
    "# mean, median, variance, standard deviation, and SEM of the tumor volume.\n",
    "tumor_mean = regimen_group_df[\"Tumor Volume (mm3)\"].mean()\n",
    "tumor_median = regimen_group_df[\"Tumor Volume (mm3)\"].median()\n",
    "tumor_variance = regimen_group_df[\"Tumor Volume (mm3)\"].var()\n",
    "tumor_std_dev = regimen_group_df[\"Tumor Volume (mm3)\"].std()\n",
    "tumor_std_err = regimen_group_df[\"Tumor Volume (mm3)\"].sem()\n",
    "\n",
    "# Assemble the resulting series into a single summary dataframe.\n",
    "regimen_summary_1_df = pd.DataFrame({\"Tumor Volume (mm3) Mean\":(tumor_mean),\n",
    "                                   \"Tumor Volume (mm3) Median\":(tumor_median),\n",
    "                                   \"Tumor Volume (mm3) Variance\":(tumor_variance),\n",
    "                                   \"Tumor Volume (mm3) Standard Deviation\":(tumor_std_dev),\n",
    "                                   \"Tumor Volume (mm3) Standard Error of Mean\":(tumor_std_err)})\n",
    "regimen_summary_1_df"
   ]
  },
  {
   "cell_type": "code",
   "execution_count": null,
   "metadata": {},
   "outputs": [],
   "source": [
    "# Generate a summary statistics table of mean, median, variance, standard deviation, and SEM of the tumor volume for each regimen\n",
    "\n",
    "# Using the aggregation method, produce the same summary statistics in a single line [of code]\n",
    "regimen_summary_2_df = pd.DataFrame(cleaned_df.groupby([\"Drug Regimen\"])[[\"Tumor Volume (mm3)\"]].agg([\"mean\", \"median\", \"var\", \"std\", \"sem\"]))\n",
    "regimen_summary_2_df"
   ]
  },
  {
   "cell_type": "markdown",
   "metadata": {},
   "source": [
    "## Bar and Pie Charts"
   ]
  },
  {
   "cell_type": "code",
   "execution_count": null,
   "metadata": {},
   "outputs": [],
   "source": [
    "# Generate a bar plot showing the total number of measurements taken on each drug regimen using pandas.\n",
    "\n",
    "# Create groupby objects by drug regimen and mouse ID\n",
    "pandas_bar_df = cleaned_df[\"Drug Regimen\"].value_counts()\n",
    "\n",
    "# Define bar plot size, color and transparency, legend, and x tickmark orientation\n",
    "pandas_bar_chart = pandas_bar_df.plot(kind = \"bar\", figsize = (18,10), color = \"b\", alpha = 0.75, legend = False, rot = 0)\n",
    "\n",
    "# Define bar plot title, x label, and y label (and their font sizes)\n",
    "pandas_bar_chart.set_title(\"Number of Treatments by Regimen\", fontsize = 18)\n",
    "pandas_bar_chart.set_xlabel(\"Drug Regimen\", fontsize = 14)\n",
    "pandas_bar_chart.set_ylabel(\"Number of Treatments\", fontsize = 14)\n",
    "\n",
    "# Print pandas bar plot to image file\n",
    "plt.savefig(\"../Images/PandasBarPlot.jpg\")\n",
    "\n",
    "plt.show()"
   ]
  },
  {
   "cell_type": "code",
   "execution_count": null,
   "metadata": {},
   "outputs": [],
   "source": [
    "# Generate a bar plot showing the total number of measurements taken on each drug regimen using pyplot.\n",
    "\n",
    "# Create an array that contains the number of unique drug regimens\n",
    "\n",
    "# Define bar plot size\n",
    "plt.figure(figsize = (18,10))\n",
    "\n",
    "# Pass values into bar plot, and define color and transparency\n",
    "plt.bar(pandas_bar_df.index.values, pandas_bar_df.values, color = \"b\", alpha = 0.75)\n",
    "\n",
    "# Define bar plot title, x label, and y label (and their font sizes)\n",
    "plt.title(\"Number of Treatments per Regimen\", fontsize = 18)\n",
    "plt.xlabel(\"Drug Regimen\", fontsize = 14)\n",
    "plt.ylabel(\"Number of Treatments\", fontsize = 14)\n",
    "\n",
    "# Print pyplot bar plot to image file\n",
    "plt.savefig(\"../Images/PyPlotBarPlot.jpg\")\n",
    "\n",
    "plt.show()"
   ]
  },
  {
   "cell_type": "code",
   "execution_count": null,
   "metadata": {},
   "outputs": [],
   "source": [
    "# Generate a pie plot showing the distribution of female versus male mice using pandas\n",
    "\n",
    "# Create groupby object by mouse ID and gender\n",
    "mouse_gender_df = cleaned_df[\"Sex\"].value_counts()\n",
    "\n",
    "# Rename DataFrame column\n",
    "mouse_gender_df.columns = [\"Number of Mice\"]\n",
    "\n",
    "# Define pie plot, y value by number of mice, percentages, plot size, start angle, legend, colors, explode amount, and shadow \n",
    "pandas_pie_chart = mouse_gender_df.plot(kind = \"pie\", y = \"Number of Mice\",\n",
    "                                        autopct = \"%1.1f%%\", figsize = (16,16), startangle = 135, legend = False,\n",
    "                                        colors = (\"pink\", \"blue\"), explode = (0.07, 0), shadow = True)\n",
    "\n",
    "# Define pie plot title and y label (and their font sizes)\n",
    "pandas_pie_chart.set_title(\"Distribution of Mice by Gender\", fontsize = 18)\n",
    "pandas_pie_chart.set_ylabel(\"Gender\", fontsize = 14)\n",
    "\n",
    "# Print pandas pie plot to image file\n",
    "plt.savefig(\"../Images/PandasPiePlot.jpg\")\n",
    "\n",
    "plt.show()"
   ]
  },
  {
   "cell_type": "code",
   "execution_count": null,
   "metadata": {},
   "outputs": [],
   "source": [
    "# Generate a pie plot showing the distribution of female versus male mice using pyplot\n",
    "\n",
    "# Define pie plot colors and slice explode amount\n",
    "colors = [\"pink\", \"blue\"]\n",
    "explode = (0.07, 0)\n",
    "\n",
    "# Define pie plot size\n",
    "plt.figure(figsize = (16,16))\n",
    "\n",
    "# Pass values, labels, colors, and explode into pie plot; define percentages format, start angle, and shadow\n",
    "plt.pie(mouse_gender_df.values, labels = mouse_gender_df.index.values, colors = colors, explode = explode,\n",
    "        autopct=\"%1.1f%%\", startangle = 135, shadow = True)\n",
    "\n",
    "# Define pie plot title and y label (and their font sizes)\n",
    "plt.title(\"Distribution of Mice by Gender\", fontsize = 18)\n",
    "plt.ylabel(\"Gender\", fontsize = 14)\n",
    "\n",
    "# Print pyplot pie plot to image file\n",
    "plt.savefig(\"../Images/PyPlotPiePlot.jpg\")\n",
    "\n",
    "plt.show()"
   ]
  },
  {
   "cell_type": "markdown",
   "metadata": {},
   "source": [
    "## Quartiles, Outliers and Boxplots"
   ]
  },
  {
   "cell_type": "code",
   "execution_count": null,
   "metadata": {},
   "outputs": [],
   "source": [
    "# Calculate the final tumor volume of each mouse across four of the treatment regimens:  \n",
    "# Capomulin, Ramicane, Infubinol, and Ceftamin\n",
    "\n",
    "# Start by getting the last (greatest) timepoint for each mouse\n",
    "greatest_timepoint_df = pd.DataFrame(cleaned_df.groupby(\"Mouse ID\")[\"Timepoint\"].max().sort_values()).reset_index().rename(columns={\"Timepoint\":\"Last Timepoint\"})                                                                                                                                  \n",
    "                                                                                                                                    \n",
    "# Merge this group df with the original dataframe to get the tumor volume at the last timepoint\n",
    "tumor_volume_df = pd.merge(cleaned_df, greatest_timepoint_df, how = \"outer\", on = \"Mouse ID\")\n",
    "\n",
    "# Drop the row containing NaN data\n",
    "tumor_volume_df.dropna(axis = 0, how = \"any\", thresh = None, subset = None, inplace = True)\n",
    "\n",
    "tumor_volume_df"
   ]
  },
  {
   "cell_type": "code",
   "execution_count": null,
   "metadata": {},
   "outputs": [],
   "source": [
    "# Put treatments into a list for for loop (and later for plot labels)\n",
    "regimen_names = [\"Capomulin\", \"Ramicane\", \"Infubinol\", \"Ceftamin\"]\n",
    "\n",
    "# Create empty list to fill with tumor vol data (for plotting)\n",
    "tumor_vol_data = []\n",
    "\n",
    "# Locate the rows which contain mice on each drug and get the tumor volumes\n",
    "for x in regimen_names:\n",
    "    volumes_df = tumor_volume_df.loc[tumor_volume_df[\"Drug Regimen\"] == x]\n",
    "    \n",
    "    # Create new DataFrame by adding subset to previous DataFrame\n",
    "    greatest_volumes_df = volumes_df.loc[volumes_df[\"Timepoint\"] == volumes_df[\"Last Timepoint\"]]\n",
    "\n",
    "    # Append list with tumor volumes on the last timepoints\n",
    "    tumors = greatest_volumes_df[\"Tumor Volume (mm3)\"]\n",
    "    tumor_vol_data.append(tumors)\n",
    "\n",
    "    # Calculate the IQR and quantitatively determine if there are any potential outliers. \n",
    "    quartiles = tumors.quantile([0.25, 0.50, 0.75])\n",
    "    lowerq = quartiles[0.25]\n",
    "    medianq = quartiles[0.50]\n",
    "    upperq = quartiles[0.75]\n",
    "    iqr = upperq - lowerq\n",
    "  \n",
    "    # Print results to the display\n",
    "    print(f\"The lower quartile of {x} is:  {lowerq}.\")\n",
    "    print(f\"The median of {x} is:  {medianq}.\")\n",
    "    print(f\"The upper quartile of {x} is:  {upperq}.\")\n",
    "    print(f\"The interquartile range of {x} is:  {iqr}.\")\n",
    "    \n",
    "    # Determine outliers using upper and lower bounds and print to the display\n",
    "    lower_bound = lowerq - (1.5 * iqr)\n",
    "    upper_bound = upperq + (1.5 * iqr)\n",
    "    print(f\"Values below {lower_bound} could be outliers.\")\n",
    "    print(f\"Values above {upper_bound} could be outliers.\")\n",
    "    print(\"*************************************************************\")"
   ]
  },
  {
   "cell_type": "code",
   "execution_count": null,
   "metadata": {},
   "outputs": [],
   "source": [
    "# Generate a box plot of the final tumor volume of each mouse across four regimens of interest\n",
    "outlier = dict(marker = \"o\", markerfacecolor = \"red\", markersize = 10, markeredgecolor = \"black\")\n",
    "\n",
    "# Define box plot size\n",
    "plt.figure(figsize = (18,16))\n",
    "\n",
    "# Define box plot values and outlier\n",
    "plt.boxplot(tumor_vol_data, labels = regimen_names, flierprops = outlier)\n",
    "\n",
    "# Define box plot title, y label, x label, and x tick labels\n",
    "plt.title(\"Range of Final Tumor Volumes by Drug Regimen\", fontsize = 18)\n",
    "plt.ylabel(\"Tumor Volumes (mm3)\", fontsize = 14)\n",
    "plt.xlabel(\"Drug Regimen\", fontsize = 14)\n",
    "plt.xticks(fontsize = 14)\n",
    "\n",
    "# Print box plot to image file\n",
    "plt.savefig(\"../Images/BoxPlot.jpg\")\n",
    "\n",
    "plt.show()"
   ]
  },
  {
   "cell_type": "markdown",
   "metadata": {},
   "source": [
    "## Line and Scatter Plots"
   ]
  },
  {
   "cell_type": "code",
   "execution_count": null,
   "metadata": {},
   "outputs": [],
   "source": [
    "# Generate a line plot of tumor volume vs. time point for a mouse treated with Capomulin\n",
    "\n",
    "# Filter all by Capomulin group to select a mouse to create line\n",
    "capomulin_df = cleaned_df.loc[(cleaned_df[\"Drug Regimen\"] == \"Capomulin\")]\n",
    "\n",
    "# Line used to select a mouse at random\n",
    "# random_mouse_df = capomulin_df.sample(1)\n",
    "# random_mouse_df\n",
    "\n",
    "# Create new DataFrame for selected mouse\n",
    "selected_mouse_df = cleaned_df.loc[cleaned_df[\"Mouse ID\"] == \"w914\", :].reset_index(drop = True)\n",
    "\n",
    "# Retrieve timepoint and tumor volume data\n",
    "timepoints = selected_mouse_df[\"Timepoint\"]\n",
    "volumes = selected_mouse_df[\"Tumor Volume (mm3)\"]\n",
    "\n",
    "# Define line plot size\n",
    "plt.figure(figsize = (18,10))\n",
    "\n",
    "# Plot x and y values on line plot\n",
    "plt.plot(timepoints, volumes)\n",
    "\n",
    "# Define line plot title, x and y labels (and their font sizes), and x and y limits\n",
    "plt.title(\"Capomulin:  Tumor Volume over Time for Mouse w914\", fontsize = 18)\n",
    "plt.xlabel(\"Timeline\", fontsize = 14)\n",
    "plt.ylabel(\"Tumor Volume (mm3)\", fontsize = 14)\n",
    "plt.xlim(0, max(timepoints))\n",
    "plt.ylim(34, max(volumes) * 1.01)\n",
    "\n",
    "plt.show()"
   ]
  },
  {
   "cell_type": "code",
   "execution_count": null,
   "metadata": {},
   "outputs": [],
   "source": [
    "# Generate a scatter plot of average tumor volume vs. mouse weight for all mice in the Capomulin regimen\n",
    "\n",
    "# Create groupby object to gather values and calculate means based on mouse ID\n",
    "capomulin_avg = capomulin_df.groupby(\"Mouse ID\").mean()\n",
    "\n",
    "# Retrieve mean values of weight and tumor volume\n",
    "weights = capomulin_avg[\"Weight (g)\"]\n",
    "avg_volumes = capomulin_avg[\"Tumor Volume (mm3)\"]\n",
    "\n",
    "# Define scatter plot size\n",
    "plt.figure(figsize = (18,10))\n",
    "\n",
    "# Plot x and y values on scatter plot\n",
    "plt.scatter(weights, avg_volumes)\n",
    "\n",
    "# Define scatter plot title, and x and y labels (and their font sizes)\n",
    "plt.title(\"Capomulin:  Average Tumor Volumes by Weights of Mice\", fontsize = 18)\n",
    "plt.xlabel(\"Weight (in grams)\", fontsize = 14)\n",
    "plt.ylabel(\"Average Tumor Volumes (mm3)\", fontsize = 14)\n",
    "\n",
    "plt.show()"
   ]
  },
  {
   "cell_type": "markdown",
   "metadata": {},
   "source": [
    "## Correlation and Regression"
   ]
  },
  {
   "cell_type": "code",
   "execution_count": null,
   "metadata": {},
   "outputs": [],
   "source": [
    "# Calculate and print the correlation coefficient between weight and average tumor volume\n",
    "print(f\"The correlation coefficient between weight and average tumor volume is {round(st.pearsonr(weights,avg_volumes)[0],2)}\")"
   ]
  },
  {
   "cell_type": "code",
   "execution_count": null,
   "metadata": {},
   "outputs": [],
   "source": [
    "# Perform a linear regression on weights versus average tumor volumes\n",
    "capo_slope, capo_int, capo_r, capo_p, capo_std_err = st.linregress(weights, avg_volumes)\n",
    "\n",
    "# Create equation of line to calculate predicted average tumor volume\n",
    "capo_fit = capo_slope * weights + capo_int\n",
    "\n",
    "# Create equation in string formats to print on scatter plot\n",
    "equation = \"y = \" + str(round(capo_slope, 2)) + \"x + \" + str(round(capo_int, 2))\n",
    "\n",
    "# Create groupby object to gather values and calculate means based on mouse ID\n",
    "capomulin_avg = capomulin_df.groupby(\"Mouse ID\").mean()\n",
    "\n",
    "# Retrieve mean values of weight and tumor volume\n",
    "weights = capomulin_avg[\"Weight (g)\"]\n",
    "avg_volumes = capomulin_avg[\"Tumor Volume (mm3)\"]\n",
    "\n",
    "# Define scatter plot size\n",
    "plt.figure(figsize = (18,10))\n",
    "\n",
    "# Plot x and y values on scatter plot\n",
    "plt.scatter(weights, avg_volumes)\n",
    "\n",
    "# Plot linear regression line on scatter plot\n",
    "plt.plot(weights, capo_fit, \"--\", color = \"red\")\n",
    "\n",
    "# Define linear regression line and print on scatter plot\n",
    "plt.annotate(equation, (23.5,42), fontsize = 14, color = \"red\")\n",
    "\n",
    "# Define scatter plot title, and x and y labels (and their font sizes)\n",
    "plt.title(\"Capomulin:  Average Tumor Volumes by Weights of Mice (with linear regression model)\", fontsize = 18)\n",
    "plt.xlabel(\"Weight (in grams)\", fontsize = 14)\n",
    "plt.ylabel(\"Average Tumor Volumes (mm3)\", fontsize = 14)\n",
    "\n",
    "plt.show()"
   ]
  },
  {
   "cell_type": "markdown",
   "metadata": {},
   "source": [
    "# Observation and Insights"
   ]
  },
  {
   "cell_type": "markdown",
   "metadata": {},
   "source": [
    "#### Write analysis summary and conclusion here"
   ]
  }
 ],
 "metadata": {
  "anaconda-cloud": {},
  "kernelspec": {
   "display_name": "Python 3",
   "language": "python",
   "name": "python3"
  },
  "language_info": {
   "codemirror_mode": {
    "name": "ipython",
    "version": 3
   },
   "file_extension": ".py",
   "mimetype": "text/x-python",
   "name": "python",
   "nbconvert_exporter": "python",
   "pygments_lexer": "ipython3",
   "version": "3.6.10"
  }
 },
 "nbformat": 4,
 "nbformat_minor": 4
}
